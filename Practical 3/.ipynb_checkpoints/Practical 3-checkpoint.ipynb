{
 "cells": [
  {
   "cell_type": "code",
   "execution_count": 2,
   "metadata": {},
   "outputs": [],
   "source": [
    "from  apyori import apriori"
   ]
  },
  {
   "cell_type": "code",
   "execution_count": 3,
   "metadata": {},
   "outputs": [],
   "source": [
    "transactions = [\n",
    "    ['Bread', 'butter', 'milk', 'soda'],\n",
    "    ['Coke','egg','milk'],\n",
    "    ['Bread','butter','milk'],\n",
    "    ['Bread','coke','jam'],\n",
    "    ['Bread','butter'],\n",
    "    ['Potato chips','soda'],\n",
    "    ['Coke','fruit','juice'],\n",
    "    ['Bread','coke','milk'],\n",
    "    ['COke','soda','jam','milk'],\n",
    "    ['Bread','butter','egg','milk','soda'],\n",
    "    ['Bread','milk'],\n",
    "    ['Bread','jam']\n",
    "]"
   ]
  }
 ],
 "metadata": {
  "kernelspec": {
   "display_name": "Python 3",
   "language": "python",
   "name": "python3"
  },
  "language_info": {
   "codemirror_mode": {
    "name": "ipython",
    "version": 3
   },
   "file_extension": ".py",
   "mimetype": "text/x-python",
   "name": "python",
   "nbconvert_exporter": "python",
   "pygments_lexer": "ipython3",
   "version": "3.7.6"
  }
 },
 "nbformat": 4,
 "nbformat_minor": 4
}
