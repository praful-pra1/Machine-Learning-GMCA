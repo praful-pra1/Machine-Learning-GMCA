{
 "cells": [
  {
   "cell_type": "code",
   "execution_count": 2,
   "metadata": {},
   "outputs": [],
   "source": [
    "from  apyori import apriori"
   ]
  },
  {
   "cell_type": "code",
   "execution_count": 6,
   "metadata": {},
   "outputs": [],
   "source": [
    "association_rules = apriori(transactions, min_support = 0.093, min_confidence = 1.0, min_left=2, min_length=2)\n",
    "association_result = list(association_rules)"
   ]
  },
  {
   "cell_type": "code",
   "execution_count": 9,
   "metadata": {},
   "outputs": [
    {
     "name": "stdout",
     "output_type": "stream",
     "text": [
      "Association Results : 8\n"
     ]
    }
   ],
   "source": [
    "print(\"Association Results : {}\".format(len(association_result)))"
   ]
  },
  {
   "cell_type": "code",
   "execution_count": 15,
   "metadata": {},
   "outputs": [
    {
     "name": "stdout",
     "output_type": "stream",
     "text": [
      "Rule : butter -> Bread\n",
      "Support : 0.3333333333333333\n",
      "Confidence: 1.0\n",
      "Lift : 1.5\n",",
      "Rule : coke -> Bread\n",
      "Support : 0.16666666666666666\n",
      "Confidence: 1.0\n",
      "Lift : 1.5\n",
      "-----------------------------\n",
      "Rule : milk -> egg\n",
      "Support : 0.16666666666666666\n",
      "Confidence: 1.0\n",
      "Lift : 1.7142857142857142\n",
      "-----------------------------\n",
      "Rule : milk -> butter\n",
      "Support : 0.25\n",
      "Confidence: 1.0\n",
      "Lift : 1.5\n",
      "-----------------------------\n",
      "Rule : soda -> butter\n",
      "Support : 0.16666666666666666\n",
      "Confidence: 1.0\n",
      "Lift : 3.0\n",
      "-----------------------------\n",
      "Rule : milk -> soda\n",
      "Support : 0.16666666666666666\n",
      "Confidence: 1.0\n",
      "Lift : 1.7142857142857142\n",
      "-----------------------------\n",
      "Rule : milk -> soda\n",
      "Support : 0.16666666666666666\n",
      "Confidence: 1.0\n",
      "Lift : 1.7142857142857142\n",
      "-----------------------------\n",
      "Rule : milk -> soda\n",
      "Support : 0.16666666666666666\n",
      "Confidence: 1.0\n",
      "Lift : 4.0\n",
      "-----------------------------\n"
     ]
    }
   ],
   "source": [
    "for item in association_result:\n",
    "    pair = item[0]\n",
    "    items = [x for x in pair]\n",
    "    print(\"Rule : {} -> {}\".format( items[0], items[1]))\n",
    "    print(\"Support : \"+ str(item[1]))\n",
    "    print(\"Confidence: \" + str(item[2][0][2]))\n",
    "    print(\"Lift : \" +str(item[2][0][3]))\n",
    "    print(\"-----------------------------\")"
   ]
  }
 ],
 "metadata": {
  "kernelspec": {
   "display_name": "Python 3",
   "language": "python",
   "name": "python3"
  },
  "language_info": {
   "codemirror_mode": {
    "name": "ipython",
    "version": 3
   },
   "file_extension": ".py",
   "mimetype": "text/x-python",
   "name": "python",
   "nbconvert_exporter": "python",
   "pygments_lexer": "ipython3",
   "version": "3.7.6"
  }
 },
 "nbformat": 4,
 "nbformat_minor": 4
}
