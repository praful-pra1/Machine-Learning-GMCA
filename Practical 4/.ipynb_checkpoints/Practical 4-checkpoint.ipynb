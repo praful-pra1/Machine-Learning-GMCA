{
 "cells": [
  {
   "cell_type": "code",
   "execution_count": null,
   "metadata": {},
   "outputs": [],
   "source": [
    "improt pandas as pd"
   ]
  }
 ],
 "metadata": {
  "kernelspec": {
   "display_name": "Python 3.8.3 64-bit",
   "language": "python",
   "name": "python38364bit5196317e7d62419694e2d65f72dee1dd"
  }
 },
 "nbformat": 4,
 "nbformat_minor": 4
}
